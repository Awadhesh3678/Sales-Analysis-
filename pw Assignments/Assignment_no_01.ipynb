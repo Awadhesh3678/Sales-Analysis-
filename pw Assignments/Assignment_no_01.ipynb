{
  "cells": [
    {
      "cell_type": "markdown",
      "metadata": {
        "id": "QOzDv1xqkYm1"
      },
      "source": [
        "ASSIGNMENT NO -> 01"
      ]
    },
    {
      "cell_type": "markdown",
      "metadata": {
        "id": "UGj817xnki_x"
      },
      "source": [
        "Q1.\n",
        "\n",
        "Explain the key features of Python that make it a popular choice for\n",
        " programming ?\n",
        "\n",
        "Ans ->\n",
        "\n",
        " There are numerous features that makes python a popular choice among other languages, they are:\n",
        "\n",
        "a-Simple Syntax\n",
        " >unlike other languages it's syntax is easy and easy to learn\n",
        "\n",
        "b- Easy to learn and use:\n",
        " >use indentation in place of brackets which increases the readibility\n",
        "\n",
        "c-Interpreted language\n",
        " >Python is interpreted language that that means code execute line by line rather then hole code at once\n",
        " >its makes easier in debuging\n",
        "\n",
        "d- Dynamically Typed:\n",
        " >variables do not require declaration it declare the type by own and\n",
        "\n",
        "e- Large Library  support:\n",
        " > python support / has multiple libraries that consisises the cpode and increases the readability of the code,\n",
        " some of common libraries are Numpy,Pandas, Matplot,seaborn,etc;\n",
        "\n",
        "f-  Platform Independed:\n",
        " > Platform independenmt means code once written over any operating system can run on any other Os Like windows, MAC,linux.\n",
        "\n",
        "g- Multipurpose Language\n",
        " > web development, Data Analyst and Science, Machine Learning, CyberSecurity, etc\n",
        "\n",
        "\n"
      ]
    },
    {
      "cell_type": "markdown",
      "metadata": {
        "id": "TOImQEulou3_"
      },
      "source": [
        "--------------------------------------------------------------------------------Question -> 02"
      ]
    },
    {
      "cell_type": "markdown",
      "metadata": {
        "id": "ZPKJVE-6pFjZ"
      },
      "source": [
        "Question-02\n",
        "\n",
        "Describe the role of predefined keywords in Python and provide examples of how they are used in a\n",
        "program\n",
        "\n",
        "Ans->\n",
        "\n",
        "unlike all other languages python too have some predefined keywords that have specific meaning in the language whose meaning can't be changed and cannot be used by user to declare its new meaning like variables,function name, or in any other form.\n",
        "\n",
        "some of the common predefined keywords are:\n",
        "def,return,if,else,for,in, while,break,continue,try,except,True,False, or not,and....\n"
      ]
    },
    {
      "cell_type": "code",
      "execution_count": null,
      "metadata": {
        "colab": {
          "base_uri": "https://localhost:8080/"
        },
        "id": "VXCXAXJcrK9z",
        "outputId": "32061028-b805-4547-f4fd-923992d274ff"
      },
      "outputs": [
        {
          "name": "stdout",
          "output_type": "stream",
          "text": [
            "0 is Even\n",
            "1 is odd\n",
            "2 is Even\n",
            "3 is odd\n",
            "4 is Even\n",
            "5 is odd\n",
            "6 is Even\n",
            "7 is odd\n",
            "8 is Even\n",
            "9 is odd\n"
          ]
        }
      ],
      "source": [
        "# example for if,else for in\n",
        "\n",
        "a=10\n",
        "for i in range(a):\n",
        "  if i%2==0:\n",
        "    print(f\"{i} is Even\")\n",
        "  else:\n",
        "    print(f\"{i } is odd\")"
      ]
    },
    {
      "cell_type": "code",
      "execution_count": null,
      "metadata": {
        "colab": {
          "background_save": true,
          "base_uri": "https://localhost:8080/"
        },
        "id": "8sRCFW7ZrzVS",
        "outputId": "a7e8b85e-1cbb-4cc2-db73-d18ac1e4080c"
      },
      "outputs": [
        {
          "name": "stdout",
          "output_type": "stream",
          "text": [
            "1\n",
            "2\n",
            "3\n",
            "4\n",
            "5\n",
            "6\n",
            "8  Value of I before  break statement\n"
          ]
        }
      ],
      "source": [
        "## uexample for break,continue,pass\n",
        "for i in range (1,10):\n",
        "\n",
        "  if i<3:\n",
        "    print(i)\n",
        "    pass\n",
        "  elif i==7:\n",
        "    continue\n",
        "    print(i)\n",
        "  elif i<10:\n",
        "    print(i)\n",
        "  else:\n",
        "    print(i,\" Value of I before  break statement\")\n",
        "    break\n",
        "\n",
        "\n"
      ]
    },
    {
      "cell_type": "code",
      "execution_count": null,
      "metadata": {
        "colab": {
          "base_uri": "https://localhost:8080/"
        },
        "id": "LJSK3mSis7fX",
        "outputId": "ec58b917-f594-4355-870c-90f905215324"
      },
      "outputs": [
        {
          "name": "stdout",
          "output_type": "stream",
          "text": [
            "False\n",
            "True\n"
          ]
        }
      ],
      "source": [
        "# operator keyword\n",
        "x = True\n",
        "y = False\n",
        "print(x and y)  # False\n",
        "print(x or y)   # True"
      ]
    },
    {
      "cell_type": "markdown",
      "source": [
        "----------------------------------------------------------------------------------------------------------------------------------------------------------------\n",
        "\n",
        "Question-->03\n",
        "\n",
        "Compare and contrast mutable and immutable objects in Python with examples?\n",
        "\n",
        "Ans-->  \n",
        "Mutable Objects :\n",
        "Mutable are those objects in python that can be modified once they are defined or declared.\n",
        "\n",
        "Example--> list, dictinary,set, etc.\n",
        "\n",
        "Immutable Objects : **bold text**\n",
        "Immutable objects are those objects that can not be modified once they are declared.\n",
        "\n",
        "Example--> tuple, int, float, string,etc.\n"
      ],
      "metadata": {
        "id": "UbytHzJsoHIN"
      }
    },
    {
      "cell_type": "code",
      "source": [
        "#mutable objects example\n",
        "\n",
        "list = [1, 2, 3]\n",
        "print(list)\n",
        "list.append(4)\n",
        "print(list)\n",
        "\n",
        "set={1,2,3,4,5,6}\n",
        "print(\"original set\",set)\n",
        "set.add(6767)\n",
        "print(\"modified set\",set)\n",
        "\n"
      ],
      "metadata": {
        "colab": {
          "base_uri": "https://localhost:8080/"
        },
        "id": "-FFlPXP4o4Jn",
        "outputId": "85f64e60-ee81-43c8-fea4-f74c48c3f951"
      },
      "execution_count": null,
      "outputs": [
        {
          "output_type": "stream",
          "name": "stdout",
          "text": [
            "[1, 2, 3]\n",
            "[1, 2, 3, 4]\n",
            "original set {1, 2, 3, 4, 5, 6}\n",
            "modified set {1, 2, 3, 4, 5, 6, 6767}\n"
          ]
        }
      ]
    },
    {
      "cell_type": "code",
      "source": [
        "#  Immutable objects Example\n",
        "\n",
        "x = \"hello\"\n",
        "print(\" original String ==\", x)\n",
        "x = x + \" world\"\n",
        "print(\" string after modificatoin== \" ,x)\n",
        "\n",
        "x[3]=\"cjk\"\n",
        "print(x)"
      ],
      "metadata": {
        "colab": {
          "base_uri": "https://localhost:8080/",
          "height": 228
        },
        "id": "rhr7dBaZqPuG",
        "outputId": "5469bcdc-b336-4a33-c1b0-06418fee60ef"
      },
      "execution_count": null,
      "outputs": [
        {
          "output_type": "stream",
          "name": "stdout",
          "text": [
            " original String == hello\n",
            " string after modificatoin==  hello world\n"
          ]
        },
        {
          "output_type": "error",
          "ename": "TypeError",
          "evalue": "'str' object does not support item assignment",
          "traceback": [
            "\u001b[0;31m---------------------------------------------------------------------------\u001b[0m",
            "\u001b[0;31mTypeError\u001b[0m                                 Traceback (most recent call last)",
            "\u001b[0;32m<ipython-input-5-4e77585e2f76>\u001b[0m in \u001b[0;36m<cell line: 0>\u001b[0;34m()\u001b[0m\n\u001b[1;32m      6\u001b[0m \u001b[0mprint\u001b[0m\u001b[0;34m(\u001b[0m\u001b[0;34m\" string after modificatoin== \"\u001b[0m \u001b[0;34m,\u001b[0m\u001b[0mx\u001b[0m\u001b[0;34m)\u001b[0m\u001b[0;34m\u001b[0m\u001b[0;34m\u001b[0m\u001b[0m\n\u001b[1;32m      7\u001b[0m \u001b[0;34m\u001b[0m\u001b[0m\n\u001b[0;32m----> 8\u001b[0;31m \u001b[0mx\u001b[0m\u001b[0;34m[\u001b[0m\u001b[0;36m3\u001b[0m\u001b[0;34m]\u001b[0m\u001b[0;34m=\u001b[0m\u001b[0;34m\"cjk\"\u001b[0m\u001b[0;34m\u001b[0m\u001b[0;34m\u001b[0m\u001b[0m\n\u001b[0m\u001b[1;32m      9\u001b[0m \u001b[0mprint\u001b[0m\u001b[0;34m(\u001b[0m\u001b[0mx\u001b[0m\u001b[0;34m)\u001b[0m\u001b[0;34m\u001b[0m\u001b[0;34m\u001b[0m\u001b[0m\n",
            "\u001b[0;31mTypeError\u001b[0m: 'str' object does not support item assignment"
          ]
        }
      ]
    },
    {
      "cell_type": "markdown",
      "source": [
        "----------------------------------------------------------------------------------------------------------------------------------------------------------------\n",
        "\n",
        "Question--> 04\n",
        "\n",
        "Discuss the different types of operators in Python and provide examples of how they are used ?\n",
        "\n",
        "Ans-->\n",
        "\n",
        "Operators are special symbols or keywords that are used to carry out specific actions on numbers or variables in Python expressions.\n",
        "\n",
        "There are mainly 7 tyoe of operators used in python they are:\n",
        "\n",
        "1--Assignment operator--add(+),subtract(-), multiplication(*),division(//), floor Division(/), Exponent(**), Modulud (%),\n"
      ],
      "metadata": {
        "id": "c9zpv2e1rwPv"
      }
    },
    {
      "cell_type": "code",
      "source": [
        "#Assignment operator\n",
        "\n",
        "a = 10\n",
        "b = 3\n",
        "\n",
        "print(a + b)\n",
        "print(a - b)\n",
        "print(a * b)\n",
        "print(a / b)\n",
        "print(a // b)\n",
        "print(a % b)\n",
        "print(a ** b)"
      ],
      "metadata": {
        "colab": {
          "base_uri": "https://localhost:8080/"
        },
        "id": "-p2bmuuNq2ej",
        "outputId": "53d124e7-071b-4023-8941-8930cd9d0ade"
      },
      "execution_count": null,
      "outputs": [
        {
          "output_type": "stream",
          "name": "stdout",
          "text": [
            "13\n",
            "7\n",
            "30\n",
            "3.3333333333333335\n",
            "3\n",
            "1\n",
            "1000\n"
          ]
        }
      ]
    },
    {
      "cell_type": "markdown",
      "source": [
        "2-->Comparision Operator\n",
        "\n",
        "    These are the operators that are used to compare two or more values or varible contaning values.\n",
        "    These are ==, <=, >=, <, >, !="
      ],
      "metadata": {
        "id": "5Y_MItSitV6y"
      }
    },
    {
      "cell_type": "code",
      "source": [
        "a = 5\n",
        "b = 3\n",
        "\n",
        "print(a == b)\n",
        "print(a != b)\n",
        "print(a > b)\n",
        "print(a < b)\n",
        "print(a >= b)\n",
        "print(a <= b)\n"
      ],
      "metadata": {
        "colab": {
          "base_uri": "https://localhost:8080/"
        },
        "id": "MH-GyPfgtPfl",
        "outputId": "72277734-9e06-4503-b931-c5971c199126"
      },
      "execution_count": null,
      "outputs": [
        {
          "output_type": "stream",
          "name": "stdout",
          "text": [
            "False\n",
            "True\n",
            "True\n",
            "False\n",
            "True\n",
            "False\n"
          ]
        }
      ]
    },
    {
      "cell_type": "markdown",
      "source": [
        "3--> Assignment Operators\n",
        "\n",
        ">These are the operators that are used to assign values to variable initially or after mofidification.\n",
        "These  are =, +=, -=, *= etc;\n",
        "\n",
        "\n"
      ],
      "metadata": {
        "id": "CVqLGl2ouyms"
      }
    },
    {
      "cell_type": "code",
      "source": [
        "#Example\n",
        "x = 10\n",
        "x += 5\n",
        "print(x)\n",
        "\n",
        "x -= 3\n",
        "print(x)\n",
        "\n",
        "x *= 2\n",
        "print(x)\n",
        "\n",
        "x /= 4\n",
        "print(x)\n",
        "\n",
        "x %= 4\n",
        "print(x)\n",
        "\n",
        "x **= 3\n",
        "print(x)\n",
        "\n",
        "x //= 2\n",
        "print(x)\n",
        "\n"
      ],
      "metadata": {
        "colab": {
          "base_uri": "https://localhost:8080/"
        },
        "id": "kvYlqL2juNFI",
        "outputId": "e162afeb-5448-434a-fc41-733cd18c1bfb"
      },
      "execution_count": null,
      "outputs": [
        {
          "output_type": "stream",
          "name": "stdout",
          "text": [
            "15\n",
            "12\n",
            "24\n",
            "6.0\n",
            "2.0\n",
            "8.0\n",
            "4.0\n"
          ]
        }
      ]
    },
    {
      "cell_type": "markdown",
      "source": [
        "4-->Logical Operator:\n",
        "\n",
        "These are the operators that are used to combine conditional statements.\n",
        "These operators returns only the true or false/ boolean values..\n",
        "\n",
        "They are:  and, or, not\n"
      ],
      "metadata": {
        "id": "ssXqwPz8vjCS"
      }
    },
    {
      "cell_type": "code",
      "source": [
        "# Example\n",
        "\n",
        "a = True\n",
        "b = False\n",
        "\n",
        "print(a and b)\n",
        "print(a or b)\n",
        "print(not a)\n"
      ],
      "metadata": {
        "colab": {
          "base_uri": "https://localhost:8080/"
        },
        "id": "mzCRzX0Gv7WV",
        "outputId": "5b9ddb96-aa5f-4994-f7bb-76e81683d7b1"
      },
      "execution_count": null,
      "outputs": [
        {
          "output_type": "stream",
          "name": "stdout",
          "text": [
            "False\n",
            "True\n",
            "False\n"
          ]
        }
      ]
    },
    {
      "cell_type": "markdown",
      "source": [
        "5--> Bitwise  Operators:\n",
        "\n",
        "These are the operators that Operate on binary digits (bits).   0 or 1\n",
        "These are more same as logical but*** returns non boolean result unlike logical operators.  ***\n",
        "They are : and &, or ', Xor ^, Not ~, leftshift <<, rightshif t>>\n"
      ],
      "metadata": {
        "id": "uzWxOICgwTU9"
      }
    },
    {
      "cell_type": "code",
      "source": [
        "# Example\n",
        "a = 5\n",
        "b = 3\n",
        "\n",
        "print(a & b)\n",
        "print(a | b)\n",
        "print(a ^ b)\n",
        "print(~a)\n",
        "print(a << 1)\n",
        "print(a >> 1)\n",
        "\n"
      ],
      "metadata": {
        "colab": {
          "base_uri": "https://localhost:8080/"
        },
        "id": "TQEKf-FcwGf_",
        "outputId": "7824c180-fcdd-41fb-e62a-e02c772e1fa3"
      },
      "execution_count": null,
      "outputs": [
        {
          "output_type": "stream",
          "name": "stdout",
          "text": [
            "1\n",
            "7\n",
            "6\n",
            "-6\n",
            "10\n",
            "2\n"
          ]
        }
      ]
    },
    {
      "cell_type": "markdown",
      "source": [
        "6--> Identity Operator\n",
        "\n",
        "These are the operator used to compare items according to memory location:\n",
        "thses are    is, is not"
      ],
      "metadata": {
        "id": "JYwrR48AxofF"
      }
    },
    {
      "cell_type": "code",
      "source": [
        "#Example\n",
        "\n",
        "x = [1, 2]\n",
        "y = x\n",
        "z = [1, 2]\n",
        "\n",
        "print(x is y)\n",
        "print(x is z)"
      ],
      "metadata": {
        "colab": {
          "base_uri": "https://localhost:8080/"
        },
        "id": "H3NhnegAyJdI",
        "outputId": "4188d522-b3ac-430f-edfa-a46b8cf2f0e0"
      },
      "execution_count": null,
      "outputs": [
        {
          "output_type": "stream",
          "name": "stdout",
          "text": [
            "True\n",
            "False\n"
          ]
        }
      ]
    },
    {
      "cell_type": "markdown",
      "source": [
        "7-->Membership Operators:\n",
        "\n",
        "Used to test if a value is in a sequence or not like a value is in list,tuple, set or not.\n",
        "These are in and not in"
      ],
      "metadata": {
        "id": "_RyY7AnxyWOD"
      }
    },
    {
      "cell_type": "code",
      "source": [
        "# Example\n",
        "\n",
        "list1 = [10, 20, 30, 40]\n",
        "\n",
        "print(20 in list1)\n",
        "print(50 in list1)\n",
        "print(50 not in list1)\n"
      ],
      "metadata": {
        "colab": {
          "base_uri": "https://localhost:8080/"
        },
        "id": "SM4vOZyByTYk",
        "outputId": "0cbf85d7-0403-46e7-f14e-30f5aa7b926a"
      },
      "execution_count": null,
      "outputs": [
        {
          "output_type": "stream",
          "name": "stdout",
          "text": [
            "True\n",
            "False\n",
            "True\n"
          ]
        }
      ]
    },
    {
      "cell_type": "code",
      "source": [],
      "metadata": {
        "id": "HTb3t98Nzs0l"
      },
      "execution_count": null,
      "outputs": []
    },
    {
      "cell_type": "markdown",
      "source": [
        "----------------------------------------------------------------------------------------------------------------------------------------------------------------------\n",
        "Question -->  05\n",
        "\n",
        " Explain the concept of type casting in Python with examples?\n",
        "\n",
        "Answer:\n",
        "\n",
        "Type casting is the process of converting the data type of a variable from one type to another.\n",
        "\n",
        "There are two types of type casting:\n",
        "\n",
        "Implicit Type Casting\n",
        "\n",
        "Explicit Type Casting\n",
        "\n",
        "Implicit Type Casting : in this type of type casting Python automatically converts one data type to another during operations when required, these are one way means low level data are converted to high level means in (bit) not vice-versa.\n",
        "\n",
        "int-->float,...\n",
        "\n",
        "\n",
        "Explicit Type Casting :   In this type of type casting we can mannualy or forcefully convert one type of data type to other..\n",
        "\n",
        "Exapmle's are  mentioned below\n",
        "\n",
        "\n"
      ],
      "metadata": {
        "id": "5LV8Gwzbz5d-"
      }
    },
    {
      "cell_type": "code",
      "source": [
        "# Example for implicit type casting\n",
        "a = 5\n",
        "b = 2.0\n",
        "\n",
        "result = a + b  # int to float\n",
        "\n",
        "print(result)\n",
        "print(type(result))"
      ],
      "metadata": {
        "colab": {
          "base_uri": "https://localhost:8080/"
        },
        "id": "7PlSFu781kG_",
        "outputId": "2c3dacbc-2722-4b5f-d84e-f6c3f39ef56a"
      },
      "execution_count": null,
      "outputs": [
        {
          "output_type": "stream",
          "name": "stdout",
          "text": [
            "7.0\n",
            "<class 'float'>\n"
          ]
        }
      ]
    },
    {
      "cell_type": "code",
      "source": [
        "# Exasple for Explicit  Type Casting\n",
        "\n",
        "num = 123\n",
        "text = str(num)\n",
        "print(text)\n",
        "print(type(text))\n",
        "\n"
      ],
      "metadata": {
        "colab": {
          "base_uri": "https://localhost:8080/"
        },
        "id": "maF3GeDr15Me",
        "outputId": "27ba22dc-b8d5-42a5-f75b-b9e012d1da79"
      },
      "execution_count": null,
      "outputs": [
        {
          "output_type": "stream",
          "name": "stdout",
          "text": [
            "123\n",
            "<class 'str'>\n"
          ]
        }
      ]
    },
    {
      "cell_type": "code",
      "source": [
        "s = \"3.14\"\n",
        "f = int(float(s))\n",
        "print(f)\n",
        "print(type(f))\n"
      ],
      "metadata": {
        "colab": {
          "base_uri": "https://localhost:8080/"
        },
        "id": "s3TGbQkx2Fs9",
        "outputId": "038fb0b0-844a-4c95-e318-5737b4245274"
      },
      "execution_count": null,
      "outputs": [
        {
          "output_type": "stream",
          "name": "stdout",
          "text": [
            "3\n",
            "<class 'int'>\n"
          ]
        }
      ]
    },
    {
      "cell_type": "markdown",
      "source": [
        "---------------------------------------------------------------------------------------------------------------------------------------------------------------\n",
        "Question--> 06\n",
        "\n",
        "How do conditional statements work in Python? Illustrate with examples?\n",
        "\n",
        "Answer-->\n",
        "\n",
        "Conditional statements in Python are used to make decisions in your program based on certain conditions\n",
        "Python has conditional statements such as if, elif (else if),nested if-else and else.\n",
        "\n"
      ],
      "metadata": {
        "id": "EGITcfCT2dIr"
      }
    },
    {
      "cell_type": "code",
      "source": [
        "# if\n",
        "x = 10\n",
        "if x > 5:\n",
        "    print(f\"{x} is greater than 5\")\n",
        "\n"
      ],
      "metadata": {
        "colab": {
          "base_uri": "https://localhost:8080/"
        },
        "id": "-Sw25gAX2GxH",
        "outputId": "a1696f05-39fb-467d-d5fe-c9eb6248e517"
      },
      "execution_count": null,
      "outputs": [
        {
          "output_type": "stream",
          "name": "stdout",
          "text": [
            "10 is greater than 5\n"
          ]
        }
      ]
    },
    {
      "cell_type": "code",
      "source": [
        "# if else\n",
        "\n",
        "x= int(input(\"enter your age: \"))\n",
        "\n",
        "if x > 18:\n",
        "    print(\"You are able to vote\")\n",
        "else:\n",
        "    print(\"You are able to vote\")\n"
      ],
      "metadata": {
        "colab": {
          "base_uri": "https://localhost:8080/"
        },
        "id": "A9QOJoHC39Hk",
        "outputId": "c68e1002-fb42-4e96-ef7a-ba4df8a151f5"
      },
      "execution_count": null,
      "outputs": [
        {
          "output_type": "stream",
          "name": "stdout",
          "text": [
            "enter your age: 45\n",
            "You are able to vote\n"
          ]
        }
      ]
    },
    {
      "cell_type": "code",
      "source": [
        "#  elif\n",
        "\n",
        "x = int(input(\"Enter your age: \"))\n",
        "\n",
        "if x > 18:\n",
        "    print(\"You are eligible to vote\")\n",
        "elif x == 18:\n",
        "    print(\"You just became eligible to vote\")\n",
        "else:\n",
        "    print(\"You are not eligible to vote\")\n"
      ],
      "metadata": {
        "colab": {
          "base_uri": "https://localhost:8080/"
        },
        "id": "jmgu7Z_c4QKM",
        "outputId": "134ebb08-610d-4075-a80c-bfface778ac2"
      },
      "execution_count": null,
      "outputs": [
        {
          "output_type": "stream",
          "name": "stdout",
          "text": [
            "Enter your age: 17\n",
            "You are not eligible to vote\n"
          ]
        }
      ]
    },
    {
      "cell_type": "code",
      "source": [
        "# nested if\n",
        "\n",
        "x = 15\n",
        "\n",
        "if x > 10:\n",
        "    print(\"x is greater than 10\")\n",
        "    if x < 20:\n",
        "        print(\"x is also less than 20\")\n"
      ],
      "metadata": {
        "colab": {
          "base_uri": "https://localhost:8080/"
        },
        "id": "DuWs2FcX4it6",
        "outputId": "c56b15b7-e59d-4c57-93b2-2ff6047299f8"
      },
      "execution_count": null,
      "outputs": [
        {
          "output_type": "stream",
          "name": "stdout",
          "text": [
            "x is greater than 10\n",
            "x is also less than 20\n"
          ]
        }
      ]
    },
    {
      "cell_type": "markdown",
      "source": [
        "-----------------------------------------------------------------------------------------------------------------------------------------------------------------------------------------------------------------------------------------------\n",
        "Question --> 07\n",
        "\n",
        "Describe the different types of loops in Python and their use cases with examples.\n",
        "\n",
        "Answer-->\n",
        "\n",
        "There are 2 type of loop in python *for and *while\n",
        "\n",
        "\n",
        "\"for\" loops are used for iterating over a sequence of elements,\n",
        "while “while” loops are used for executing code until a specified condition becomes False  "
      ],
      "metadata": {
        "id": "lHW062fi4xaq"
      }
    },
    {
      "cell_type": "code",
      "source": [
        "# for loop\n",
        "\n",
        "for i in range(1, 6):\n",
        "    print(i)\n",
        "# another wy to use for loop\n",
        "\n",
        "fruits = [\"apple\", \"banana\", \"cherry\"]\n",
        "for fruit in fruits:\n",
        "    print(fruit)\n"
      ],
      "metadata": {
        "colab": {
          "base_uri": "https://localhost:8080/"
        },
        "id": "Ndui5tNe4tie",
        "outputId": "98972ce0-0065-4d5f-b0f1-602f43ebee55"
      },
      "execution_count": null,
      "outputs": [
        {
          "output_type": "stream",
          "name": "stdout",
          "text": [
            "1\n",
            "2\n",
            "3\n",
            "4\n",
            "5\n",
            "apple\n",
            "banana\n",
            "cherry\n"
          ]
        }
      ]
    },
    {
      "cell_type": "code",
      "source": [
        "# while loop\n",
        "\n",
        "i = 1\n",
        "while i <= 5:\n",
        "    print(i)\n",
        "    i += 1\n"
      ],
      "metadata": {
        "colab": {
          "base_uri": "https://localhost:8080/"
        },
        "id": "wx2O6-tQ50SN",
        "outputId": "6b8750a3-25d4-4517-e39a-311ae551efe2"
      },
      "execution_count": null,
      "outputs": [
        {
          "output_type": "stream",
          "name": "stdout",
          "text": [
            "1\n",
            "2\n",
            "3\n",
            "4\n",
            "5\n"
          ]
        }
      ]
    },
    {
      "cell_type": "code",
      "source": [],
      "metadata": {
        "id": "J7rEvJei6BZy"
      },
      "execution_count": null,
      "outputs": []
    }
  ],
  "metadata": {
    "colab": {
      "provenance": []
    },
    "kernelspec": {
      "display_name": "Python 3",
      "name": "python3"
    },
    "language_info": {
      "name": "python"
    }
  },
  "nbformat": 4,
  "nbformat_minor": 0
}